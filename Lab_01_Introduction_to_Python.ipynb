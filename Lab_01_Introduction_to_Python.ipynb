{
  "nbformat": 4,
  "nbformat_minor": 0,
  "metadata": {
    "colab": {
      "provenance": [],
      "authorship_tag": "ABX9TyO9ESy0/4Fj0fNtOW0NUldN",
      "include_colab_link": true
    },
    "kernelspec": {
      "name": "python3",
      "display_name": "Python 3"
    },
    "language_info": {
      "name": "python"
    }
  },
  "cells": [
    {
      "cell_type": "markdown",
      "metadata": {
        "id": "view-in-github",
        "colab_type": "text"
      },
      "source": [
        "<a href=\"https://colab.research.google.com/github/sohaib-khan0/cs351-ai-lab-2022551/blob/main/Lab_01_Introduction_to_Python.ipynb\" target=\"_parent\"><img src=\"https://colab.research.google.com/assets/colab-badge.svg\" alt=\"Open In Colab\"/></a>"
      ]
    },
    {
      "cell_type": "code",
      "execution_count": null,
      "metadata": {
        "colab": {
          "base_uri": "https://localhost:8080/"
        },
        "id": "5C0Zxbve-EOH",
        "outputId": "e294b656-24fe-4a0d-a298-d6d8aefa2e1f"
      },
      "outputs": [
        {
          "metadata": {
            "tags": null
          },
          "name": "stdout",
          "output_type": "stream",
          "text": [
            "Think of a number between 1 and 100, and I (the AI) will try to guess it.\n",
            "AI's guess is: 59\n"
          ]
        }
      ],
      "source": [
        "import random\n",
        "from collections import deque\n",
        "\n",
        "def bfs_game(low, high):\n",
        "    attempts = 0\n",
        "    # Initialize the queue with the full range of possible numbers\n",
        "    queue = deque([(low, high)])\n",
        "\n",
        "    print(\"Think of a number between 1 and 100, and I (the AI) will try to guess it.\")\n",
        "\n",
        "    # Continue until the queue is empty or the correct number is guessed\n",
        "    while queue:\n",
        "        # Get the current range from the front of the queue\n",
        "        current_low, current_high = queue.popleft()\n",
        "\n",
        "        # AI makes a random guess within the current range\n",
        "        guess = random.randint(current_low, current_high)\n",
        "        print(f\"AI's guess is: {guess}\")\n",
        "\n",
        "        # Increment the attempt counter\n",
        "        attempts += 1\n",
        "\n",
        "        # Get feedback from the user about the guess\n",
        "        feedback = input(\"Enter 'h' if too high, 'l' if too low, or 'c' if correct: \").lower()\n",
        "\n",
        "        if feedback == 'c':\n",
        "            # If the guess is correct, print the number of attempts and end the game\n",
        "            print(f\"I (AI) guessed the number in {attempts} attempts!\")\n",
        "            return\n",
        "        elif feedback == 'h':\n",
        "            # If the guess is too high, add a new range to the queue with an updated high value\n",
        "            if current_low <= guess - 1:  # Ensure the range is valid before adding to the queue\n",
        "                queue.append((current_low, guess - 1))\n",
        "        elif feedback == 'l':\n",
        "            # If the guess is too low, add a new range to the queue with an updated low value\n",
        "            if guess + 1 <= current_high:  # Ensure the range is valid before adding to the queue\n",
        "                queue.append((guess + 1, current_high))\n",
        "\n",
        "    # If the queue is empty and the number hasn't been guessed, this prints (though in this scenario, it shouldn't happen).\n",
        "    print(queue)\n",
        "\n",
        "# Start the guessing game by calling the function with the initial range\n",
        "bfs_game(1, 100)"
      ]
    },
    {
      "cell_type": "markdown",
      "source": [
        "/BFS."
      ],
      "metadata": {
        "id": "Vw1EjZTX-HIA"
      }
    },
    {
      "cell_type": "code",
      "source": [
        "import random\n",
        "\n",
        "print(\"Think of number between 1 and 100, and I (the AI) will try to guess it.\")\n",
        "\n",
        "def guess_number_dfs(min_val, max_val, tries=0):\n",
        "    # AI makes a guess within the provided range\n",
        "    current_guess = random.randint(min_val, max_val)\n",
        "\n",
        "\n",
        "    print(f\"AI's guess is: {current_guess}\")\n",
        "\n",
        "    # Increment the attempt counter\n",
        "    tries += 1\n",
        "    # Get feedback from the user\n",
        "    response = input(\"Enter 'h' if too high, 'l' if too low, or 'c' if correct: \").lower()\n",
        "\n",
        "    if response == 'c':\n",
        "        print(f\"AI guessed the number in {tries} attempts!\")\n",
        "        return\n",
        "    elif response == 'h':\n",
        "        guess_number_dfs(min_val, current_guess - 1, tries)\n",
        "    elif response == 'l':\n",
        "        guess_number_dfs(current_guess + 1, max_val, tries)\n",
        "\n",
        "# To start the guessing game, call the function:\n",
        "guess_number_dfs(1, 100)"
      ],
      "metadata": {
        "id": "aEv2bO34-MTu"
      },
      "execution_count": null,
      "outputs": []
    },
    {
      "cell_type": "markdown",
      "source": [
        "DFS.py"
      ],
      "metadata": {
        "id": "hwz_EtPQ-SlH"
      }
    },
    {
      "cell_type": "code",
      "source": [
        "import heapq\n",
        "\n",
        "def dijkstra_search(low, high):\n",
        "    print(\"Think of a number between 1 and 100, and I (the AI) will try to guess it.\")\n",
        "\n",
        "    # Priority queue to store (cost, low, high)\n",
        "    priority_queue = [(0, low, high)]\n",
        "    visited = set()  # To keep track of visited ranges\n",
        "\n",
        "    while priority_queue:\n",
        "        # Get the node with the lowest cost\n",
        "        cost, low, high = heapq.heappop(priority_queue)\n",
        "\n",
        "        # Avoid revisiting the same range\n",
        "        if (low, high) in visited:\n",
        "            continue\n",
        "        visited.add((low, high))\n",
        "\n",
        "        # Make a guess in the current range\n",
        "        guess = (low + high) // 2  # Choosing the middle of the range\n",
        "        print(f\"AI's guess is: {guess}\")\n",
        "\n",
        "        feedback = input(\"Enter 'h' if too high, 'l' if too low, or 'c' if correct: \").lower()\n",
        "\n",
        "        if feedback == 'c':\n",
        "            print(f\"I (AI) guessed the number in {cost + 1} attempts!\")\n",
        "            return\n",
        "        elif feedback == 'h':\n",
        "            # Move to the left half\n",
        "            if low <= guess - 1:\n",
        "                heapq.heappush(priority_queue, (cost + 1, low, guess - 1))\n",
        "        elif feedback == 'l':\n",
        "            # Move to the right half\n",
        "            if guess + 1 <= high:\n",
        "                heapq.heappush(priority_queue, (cost + 1, guess + 1, high))\n",
        "\n",
        "dijkstra_search(1, 100)"
      ],
      "metadata": {
        "id": "YOquuhlX-Wsi"
      },
      "execution_count": null,
      "outputs": []
    },
    {
      "cell_type": "markdown",
      "source": [
        "\n",
        "Dijkstra.py"
      ],
      "metadata": {
        "id": "rank39WP-by4"
      }
    }
  ]
}